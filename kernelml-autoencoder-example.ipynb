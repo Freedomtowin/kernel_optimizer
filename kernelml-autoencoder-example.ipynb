{
 "cells": [
  {
   "cell_type": "code",
   "execution_count": 1,
   "metadata": {
    "collapsed": false
   },
   "outputs": [
    {
     "name": "stdout",
     "output_type": "stream",
     "text": [
      "importing numpy on engine(s)\n",
      "importing scipy on engine(s)\n"
     ]
    }
   ],
   "source": [
    "import pandas as pd\n",
    "import time\n",
    "import seaborn\n",
    "import numpy as np\n",
    "from matplotlib import pyplot as plt\n",
    "from scipy import stats\n",
    "from sklearn import linear_model\n",
    "import kernelml\n",
    "import re\n",
    "\n",
    "from ipyparallel import Client\n",
    "rc = Client(profile='default')\n",
    "dview = rc[:]\n",
    "\n",
    "dview.block = True\n",
    "\n",
    "with dview.sync_imports():\n",
    "    #for some reason, aliases cannot be use\n",
    "    import numpy\n",
    "    import scipy"
   ]
  },
  {
   "cell_type": "code",
   "execution_count": 30,
   "metadata": {
    "collapsed": true
   },
   "outputs": [],
   "source": [
    "full = pd.read_csv('DATA/hb_training.csv')\n",
    "test = pd.read_csv('DATA/hb_testing.csv')\n",
    "\n",
    "def change_label(x):\n",
    "    if x =='s':\n",
    "        return 1\n",
    "    else: \n",
    "        return 0\n",
    "    \n",
    "full['Label'] = full['Label'].apply(change_label)\n",
    "EventId = test['EventId']\n",
    "full.drop(['EventId'],axis=1,inplace=True)\n",
    "test.drop(['EventId'],axis=1,inplace=True)\n",
    "features = list(full.columns[:-2])\n",
    "target = list(full.columns[-1:])\n",
    "\n",
    "#randomly sample and split data\n",
    "all_samples=full.index\n",
    "ones = full[full[target].values==1].index\n",
    "zeros = full[full[target].values==0].index\n",
    "ones_rand_sample = np.random.choice(ones, size=int(len(ones)*0.5),replace=False)\n",
    "zeros_rand_sample = np.random.choice(zeros, size=int(len(zeros)*0.5),replace=False)\n",
    "rand_sample  = np.concatenate((ones_rand_sample,zeros_rand_sample))\n",
    "np.random.shuffle(rand_sample)\n",
    "\n",
    "test_sample = np.setdiff1d(all_samples,rand_sample)\n",
    "valid = full.loc[test_sample,:]\n",
    "train = full.loc[rand_sample,:]"
   ]
  },
  {
   "cell_type": "code",
   "execution_count": null,
   "metadata": {
    "collapsed": false
   },
   "outputs": [],
   "source": []
  },
  {
   "cell_type": "code",
   "execution_count": 31,
   "metadata": {
    "collapsed": false
   },
   "outputs": [
    {
     "data": {
      "text/plain": [
       "(600, [(30, 10), (30, 10)])"
      ]
     },
     "execution_count": 31,
     "metadata": {},
     "output_type": "execute_result"
    }
   ],
   "source": [
    "num_inputs = len(features)\n",
    "num_outputs = len(features)\n",
    "layer_sizes = [10]\n",
    "model_shapes = []\n",
    "\n",
    "model_shapes.append((num_inputs,layer_sizes[0]))\n",
    "input_n_parameters = num_inputs*layer_sizes[0]\n",
    "N =  input_n_parameters\n",
    "\n",
    "for i in range(1,len(layer_sizes)):\n",
    "    layer_n_parameters = layer_sizes[i-1]*layer_sizes[i]\n",
    "    model_shapes.append((layer_sizes[i],layer_sizes[i-1]))\n",
    "    N += layer_n_parameters\n",
    "\n",
    "output_n_parameters = num_outputs*layer_sizes[-1]\n",
    "N += output_n_parameters\n",
    "model_shapes.append((num_outputs,layer_sizes[-1]))\n",
    "num_parameters = N\n",
    "N,model_shapes"
   ]
  },
  {
   "cell_type": "code",
   "execution_count": 32,
   "metadata": {
    "collapsed": false
   },
   "outputs": [],
   "source": [
    "# shapehelper = NNShapeHelper([10,len(features)],len(features),1)\n",
    "# num_parameters = shapehelper.get_N_parameters()\n",
    "# shapes = [shapehelper.model_shape,shapehelper.parameter_shape]\n",
    "# shapes,num_parameters"
   ]
  },
  {
   "cell_type": "code",
   "execution_count": 33,
   "metadata": {
    "collapsed": true
   },
   "outputs": [],
   "source": [
    "#reshape parameter vector into list of matrices\n",
    "def reshape_vector(w):\n",
    "    reshape_w = []\n",
    "    indx = 0\n",
    "    for shape,num in zip(model_shape,parameter_shape):\n",
    "        x = w[indx:num+indx]\n",
    "        if x.size!=num:\n",
    "            continue\n",
    "        x = x.reshape(shape,int(num/shape))\n",
    "        reshape_w.append(x)\n",
    "        indx = indx+num\n",
    "    extra_w = w[indx:]\n",
    "    return reshape_w,extra_w\n",
    "\n",
    "def reshape_vector(w):\n",
    "    np=numpy\n",
    "    reshape_w = []\n",
    "    indx = 0\n",
    "    for shape in model_shapes:\n",
    "        num = np.prod(shape)\n",
    "        x = w[indx:num+indx]\n",
    "        if x.size!=num:\n",
    "            continue\n",
    "        x = x.reshape(shape)\n",
    "        reshape_w.append(x)\n",
    "        indx = indx+num\n",
    "    extra_w = w[indx:].reshape(-1,1)\n",
    "    return np.array(reshape_w),extra_w\n",
    "\n",
    "#Specifies the way the tensors are combined with the inputs\n",
    "def combine_tensors(X,w_tensor):\n",
    "    w_tensor,extra_w = reshape_vector(w_tensor)\n",
    "    b1,a1,b2,a2 = extra_w[:4]\n",
    "    pred = X.dot(w_tensor[0])\n",
    "    #choose link on encoding layer\n",
    "    pred = a1*(pred+b1)\n",
    "    pred = pred.dot(w_tensor[1].T)\n",
    "    pred = a2*(pred+b2)\n",
    "    return pred"
   ]
  },
  {
   "cell_type": "code",
   "execution_count": 37,
   "metadata": {
    "collapsed": true
   },
   "outputs": [],
   "source": [
    "dview['model_shapes']=model_shapes\n",
    "dview['combine_tensors']=combine_tensors\n",
    "dview['reshape_vector']=reshape_vector"
   ]
  },
  {
   "cell_type": "code",
   "execution_count": 38,
   "metadata": {
    "collapsed": true
   },
   "outputs": [],
   "source": [
    "def autoencoder_function(X,y,w_tensor,predict=False):\n",
    "    #can't be passed to parallel engines, so I just assign the aliases manually\n",
    "    #this is an improvement from loading the libraries again\n",
    "    np = numpy\n",
    "    stats = scipy.stats\n",
    "    \n",
    "    # define the loss function between predicted output actual output\n",
    "    def nn_autoencoder_loss(hypothesis,y):\n",
    "        return np.sum((hypothesis-y)**2)/y.size\n",
    "    \n",
    "    #we cannot modify pickled memory so create a copy of the parameter vector\n",
    "    w_tensor_copy = w_tensor.copy()\n",
    "    pred = combine_tensors(X,w_tensor_copy)\n",
    "    if predict==True:\n",
    "        return pred\n",
    "    loss = nn_autoencoder_loss(pred,y)\n",
    "    return loss"
   ]
  },
  {
   "cell_type": "code",
   "execution_count": 40,
   "metadata": {
    "collapsed": false,
    "scrolled": true
   },
   "outputs": [
    {
     "name": "stdout",
     "output_type": "stream",
     "text": [
      "('realization', 0, 'loss', 76107.195938158591, 'time', 5.942706823348999)\n",
      "('realization', 1, 'loss', 48840.295057050898, 'time', 6.122480869293213)\n",
      "('realization', 2, 'loss', 33327.403997283873, 'time', 6.742632865905762)\n",
      "('realization', 3, 'loss', 27329.353391080396, 'time', 6.610260009765625)\n",
      "('realization', 4, 'loss', 19622.446254575385, 'time', 6.733449935913086)\n",
      "('realization', 5, 'loss', 15045.266365762734, 'time', 6.165683031082153)\n",
      "('realization', 6, 'loss', 12421.891320053855, 'time', 6.550469875335693)\n",
      "('realization', 7, 'loss', 11088.197148225698, 'time', 6.800249814987183)\n",
      "('realization', 8, 'loss', 8981.2265498882734, 'time', 6.639477014541626)\n",
      "('realization', 9, 'loss', 7253.0849197167227, 'time', 6.585238933563232)\n",
      "('realization', 10, 'loss', 6438.8320106083584, 'time', 6.757697105407715)\n",
      "('realization', 11, 'loss', 5867.0427249286258, 'time', 7.00865912437439)\n",
      "('realization', 12, 'loss', 5390.2583248174869, 'time', 8.055474042892456)\n",
      "('realization', 13, 'loss', 4788.6150441189266, 'time', 7.0221710205078125)\n",
      "('realization', 14, 'loss', 9162.835117834009, 'time', 6.109021186828613)\n",
      "('realization', 15, 'loss', 4392.471742705894, 'time', 10.129889011383057)\n",
      "('realization', 16, 'loss', 3899.6516868555027, 'time', 5.998311996459961)\n",
      "('realization', 17, 'loss', 3608.3936616892697, 'time', 7.90788197517395)\n",
      "('realization', 18, 'loss', 3269.3898686461489, 'time', 6.186285972595215)\n",
      "('realization', 19, 'loss', 2836.9666005735767, 'time', 6.00260591506958)\n",
      "136.0774028301239\n"
     ]
    }
   ],
   "source": [
    "X = train[features].values\n",
    "y = train[target].values\n",
    "\n",
    "\n",
    "#parameter transform\n",
    "def constraint_transform(w):\n",
    "    w[np.where(np.abs(w)>5)] = 5*w[np.where(np.abs(w)>5)]/np.abs(w[np.where(np.abs(w)>5)]) \n",
    "    return w\n",
    "\n",
    "realizations = 20\n",
    "cycles = 5\n",
    "volume = 40\n",
    "simulations = 3000\n",
    "volatility = 0.01\n",
    "\n",
    "batch_size=500\n",
    "\n",
    "zscore = 2.0\n",
    "\n",
    "import time\n",
    "start = time.time()\n",
    "\n",
    "kml = kernelml.KernelML(\n",
    "         prior_sampler_fcn=None,\n",
    "         posterior_sampler_fcn=None,\n",
    "         intermediate_sampler_fcn=None,\n",
    "         mini_batch_sampler_fcn=None,\n",
    "         parameter_transform_fcn=None,\n",
    "         batch_size=batch_size)\n",
    "\n",
    "kml.use_ipyparallel(dview)\n",
    "\n",
    "parameter_by_run,loss_by_run = kml.optimize(X,X,loss_function=autoencoder_function,\n",
    "                                number_of_parameters=num_parameters+4,\n",
    "                                args=[],\n",
    "                                number_of_realizations=realizations,\n",
    "                                number_of_random_simulations=simulations,\n",
    "                                update_volatility = volatility,\n",
    "                                number_of_cycles=cycles,\n",
    "                                update_volume=volume,\n",
    "                                prior_uniform_low=-1,\n",
    "                                prior_uniform_high=1,\n",
    "                                convergence_z_score=zscore,\n",
    "                                plot_feedback=False,\n",
    "                                print_feedback=True)\n",
    "end = time.time()\n",
    "\n",
    "print(end-start)"
   ]
  },
  {
   "cell_type": "code",
   "execution_count": 41,
   "metadata": {
    "collapsed": false
   },
   "outputs": [
    {
     "data": {
      "image/png": "[encoded data removed]",
      "text/plain": [
       "<matplotlib.figure.Figure at 0x11f62d6d8>"
      ]
     },
     "metadata": {},
     "output_type": "display_data"
    }
   ],
   "source": [
    "plt.figure(figsize=(10,5))\n",
    "plt.plot(loss_by_run)\n",
    "plt.show()"
   ]
  },
  {
   "cell_type": "code",
   "execution_count": 42,
   "metadata": {
    "collapsed": false
   },
   "outputs": [
    {
     "data": {
      "image/png": "[encoded data removed]",
      "text/plain": [
       "<matplotlib.figure.Figure at 0x1222dea58>"
      ]
     },
     "metadata": {},
     "output_type": "display_data"
    }
   ],
   "source": [
    "plt.figure(figsize=(10,5))\n",
    "plt.plot(parameter_by_run)\n",
    "plt.show()"
   ]
  },
  {
   "cell_type": "code",
   "execution_count": 43,
   "metadata": {
    "collapsed": false
   },
   "outputs": [
    {
     "name": "stdout",
     "output_type": "stream",
     "text": [
      "performance by run\n",
      "iteration 0 train rsquared 0.150194397636 test rsquared 0.147393967407\n",
      "iteration 1 train rsquared 0.429166157218 test rsquared 0.427665596608\n",
      "iteration 2 train rsquared 0.635475657519 test rsquared 0.634973096386\n",
      "iteration 3 train rsquared 0.708687242438 test rsquared 0.708411877331\n",
      "iteration 4 train rsquared 0.783977183682 test rsquared 0.7837629366\n",
      "iteration 5 train rsquared 0.830015142301 test rsquared 0.829713127146\n",
      "iteration 6 train rsquared 0.858136432656 test rsquared 0.857989033603\n",
      "iteration 7 train rsquared 0.877759661645 test rsquared 0.877625649223\n",
      "iteration 8 train rsquared 0.897650851565 test rsquared 0.897625044183\n",
      "iteration 9 train rsquared 0.914282654105 test rsquared 0.9143493577\n",
      "iteration 10 train rsquared 0.927670565024 test rsquared 0.927799461907\n",
      "iteration 11 train rsquared 0.936352064563 test rsquared 0.936550898509\n",
      "iteration 12 train rsquared 0.942844511683 test rsquared 0.943063010957\n",
      "iteration 13 train rsquared 0.947848026839 test rsquared 0.94810356426\n",
      "iteration 14 train rsquared 0.943355102831 test rsquared 0.943504928528\n",
      "iteration 15 train rsquared 0.952367254255 test rsquared 0.952582933321\n",
      "iteration 16 train rsquared 0.955000103888 test rsquared 0.955261989261\n",
      "iteration 17 train rsquared 0.957989157754 test rsquared 0.958278222344\n",
      "iteration 18 train rsquared 0.962427284274 test rsquared 0.962735073824\n",
      "iteration 19 train rsquared 0.964250626681 test rsquared 0.964550707723\n"
     ]
    }
   ],
   "source": [
    "X = train[features].values\n",
    "y = train[target].values\n",
    "X_test = test[features].values\n",
    "# y_test = test[target].values\n",
    "\n",
    "autoencoder_SST_train = np.sum((X - np.mean(X,axis=0))**2)/X.size\n",
    "autoencoder_SST_test = np.sum((X_test - np.mean(X,axis=0))**2)/X_test.size\n",
    "\n",
    "#get model parameters of last run by interation\n",
    "kml.model.get_param_by_iter()\n",
    "kml.model.get_loss_by_iter()\n",
    "\n",
    "print('performance by run')\n",
    "for i in range(parameter_by_run.shape[0]):\n",
    "    w=parameter_by_run[i].copy()\n",
    "    autoencoder_SSE_train = autoencoder_function(X,X,w,model_shapes)\n",
    "    autoencoder_SSE_test = autoencoder_function(X_test,X_test,w,model_shapes)\n",
    "    print('iteration',i,'train rsquared',1-autoencoder_SSE_train/autoencoder_SST_train,'test rsquared',1-autoencoder_SSE_test/autoencoder_SST_test)"
   ]
  },
  {
   "cell_type": "code",
   "execution_count": 44,
   "metadata": {
    "collapsed": false
   },
   "outputs": [
    {
     "data": {
      "text/plain": [
       "96438"
      ]
     },
     "execution_count": 44,
     "metadata": {},
     "output_type": "execute_result"
    }
   ],
   "source": [
    "import gc\n",
    "gc.collect()"
   ]
  },
  {
   "cell_type": "code",
   "execution_count": 45,
   "metadata": {
    "collapsed": false,
    "scrolled": true
   },
   "outputs": [
    {
     "name": "stderr",
     "output_type": "stream",
     "text": [
      "Using TensorFlow backend.\n"
     ]
    },
    {
     "name": "stdout",
     "output_type": "stream",
     "text": [
      "Train on 124999 samples, validate on 550000 samples\n",
      "Epoch 1/100\n",
      "124999/124999 [==============================] - 1s 9us/step - loss: 205783.2810 - val_loss: 112935.8621\n",
      "Epoch 2/100\n",
      "124999/124999 [==============================] - 1s 6us/step - loss: 80279.3796 - val_loss: 55666.1744\n",
      "Epoch 3/100\n",
      "124999/124999 [==============================] - 1s 6us/step - loss: 43911.0031 - val_loss: 34595.3390\n",
      "Epoch 4/100\n",
      "124999/124999 [==============================] - 1s 6us/step - loss: 29768.0672 - val_loss: 25807.4353\n",
      "Epoch 5/100\n",
      "124999/124999 [==============================] - 1s 6us/step - loss: 23558.4788 - val_loss: 21590.0758\n",
      "Epoch 6/100\n",
      "124999/124999 [==============================] - 1s 5us/step - loss: 20307.4255 - val_loss: 19092.5432\n",
      "Epoch 7/100\n",
      "124999/124999 [==============================] - 1s 5us/step - loss: 18201.5993 - val_loss: 17305.2442\n",
      "Epoch 8/100\n",
      "124999/124999 [==============================] - 1s 5us/step - loss: 16604.6962 - val_loss: 15873.4888\n",
      "Epoch 9/100\n",
      "124999/124999 [==============================] - 1s 5us/step - loss: 15288.2644 - val_loss: 14663.2347\n",
      "Epoch 10/100\n",
      "124999/124999 [==============================] - 1s 6us/step - loss: 14161.0045 - val_loss: 13615.4078\n",
      "Epoch 11/100\n",
      "124999/124999 [==============================] - 1s 6us/step - loss: 13179.2254 - val_loss: 12698.1737\n",
      "Epoch 12/100\n",
      "124999/124999 [==============================] - 1s 6us/step - loss: 12317.1469 - val_loss: 11890.5147\n",
      "Epoch 13/100\n",
      "124999/124999 [==============================] - 1s 7us/step - loss: 11556.5252 - val_loss: 11176.4856\n",
      "Epoch 14/100\n",
      "124999/124999 [==============================] - 1s 7us/step - loss: 10882.9128 - val_loss: 10542.9477\n",
      "Epoch 15/100\n",
      "124999/124999 [==============================] - 1s 7us/step - loss: 10284.1546 - val_loss: 9978.6731\n",
      "Epoch 16/100\n",
      "124999/124999 [==============================] - 1s 7us/step - loss: 9749.8447 - val_loss: 9474.0203\n",
      "Epoch 17/100\n",
      "124999/124999 [==============================] - 1s 6us/step - loss: 9270.9661 - val_loss: 9020.6405\n",
      "Epoch 18/100\n",
      "124999/124999 [==============================] - 1s 6us/step - loss: 8839.7832 - val_loss: 8611.3999\n",
      "Epoch 19/100\n",
      "124999/124999 [==============================] - 1s 6us/step - loss: 8449.6954 - val_loss: 8240.2315\n",
      "Epoch 20/100\n",
      "124999/124999 [==============================] - 1s 7us/step - loss: 8095.0986 - val_loss: 7902.0018\n",
      "Epoch 21/100\n",
      "124999/124999 [==============================] - 1s 6us/step - loss: 7771.2636 - val_loss: 7592.3799\n",
      "Epoch 22/100\n",
      "124999/124999 [==============================] - 1s 6us/step - loss: 7474.1975 - val_loss: 7307.7139\n",
      "Epoch 23/100\n",
      "124999/124999 [==============================] - 1s 7us/step - loss: 7200.5335 - val_loss: 7044.9208\n",
      "Epoch 24/100\n",
      "124999/124999 [==============================] - 1s 6us/step - loss: 6947.4282 - val_loss: 6801.3913\n",
      "Epoch 25/100\n",
      "124999/124999 [==============================] - 1s 7us/step - loss: 6712.4648 - val_loss: 6574.9044\n",
      "Epoch 26/100\n",
      "124999/124999 [==============================] - 1s 7us/step - loss: 6493.5887 - val_loss: 6363.5624\n",
      "Epoch 27/100\n",
      "124999/124999 [==============================] - 1s 6us/step - loss: 6289.0338 - val_loss: 6165.7352\n",
      "Epoch 28/100\n",
      "124999/124999 [==============================] - 1s 6us/step - loss: 6097.2825 - val_loss: 5980.0147\n",
      "Epoch 29/100\n",
      "124999/124999 [==============================] - 1s 6us/step - loss: 5917.0201 - val_loss: 5805.1780\n",
      "Epoch 30/100\n",
      "124999/124999 [==============================] - 1s 6us/step - loss: 5747.1028 - val_loss: 5640.1589\n",
      "Epoch 31/100\n",
      "124999/124999 [==============================] - 1s 7us/step - loss: 5586.5292 - val_loss: 5484.0227\n",
      "Epoch 32/100\n",
      "124999/124999 [==============================] - 1s 7us/step - loss: 5434.4228 - val_loss: 5335.9467\n",
      "Epoch 33/100\n",
      "124999/124999 [==============================] - 1s 6us/step - loss: 5290.0086 - val_loss: 5195.2069\n",
      "Epoch 34/100\n",
      "124999/124999 [==============================] - 1s 7us/step - loss: 5152.6038 - val_loss: 5061.1606\n",
      "Epoch 35/100\n",
      "124999/124999 [==============================] - 1s 7us/step - loss: 5021.6040 - val_loss: 4933.2383\n",
      "Epoch 36/100\n",
      "124999/124999 [==============================] - 1s 6us/step - loss: 4896.4693 - val_loss: 4810.9340\n",
      "Epoch 37/100\n",
      "124999/124999 [==============================] - 1s 6us/step - loss: 4776.7227 - val_loss: 4693.7959\n",
      "Epoch 38/100\n",
      "124999/124999 [==============================] - 1s 7us/step - loss: 4661.9352 - val_loss: 4581.4209\n",
      "Epoch 39/100\n",
      "124999/124999 [==============================] - 1s 6us/step - loss: 4551.7254 - val_loss: 4473.4440\n",
      "Epoch 40/100\n",
      "124999/124999 [==============================] - 1s 6us/step - loss: 4445.7498 - val_loss: 4369.5506\n",
      "Epoch 41/100\n",
      "124999/124999 [==============================] - 1s 5us/step - loss: 4343.7072 - val_loss: 4269.4471\n",
      "Epoch 42/100\n",
      "124999/124999 [==============================] - 1s 7us/step - loss: 4245.3204 - val_loss: 4172.8731\n",
      "Epoch 43/100\n",
      "124999/124999 [==============================] - 1s 5us/step - loss: 4150.3413 - val_loss: 4079.5941\n",
      "Epoch 44/100\n",
      "124999/124999 [==============================] - 1s 5us/step - loss: 4058.5473 - val_loss: 3989.3989\n",
      "Epoch 45/100\n",
      "124999/124999 [==============================] - 1s 6us/step - loss: 3969.7384 - val_loss: 3902.0974\n",
      "Epoch 46/100\n",
      "124999/124999 [==============================] - 1s 6us/step - loss: 3883.7325 - val_loss: 3817.5174\n",
      "Epoch 47/100\n",
      "124999/124999 [==============================] - 1s 7us/step - loss: 3800.3668 - val_loss: 3735.5026\n",
      "Epoch 48/100\n",
      "124999/124999 [==============================] - 1s 5us/step - loss: 3719.4918 - val_loss: 3655.9120\n",
      "Epoch 49/100\n",
      "124999/124999 [==============================] - 1s 5us/step - loss: 3640.9728 - val_loss: 3578.6176\n",
      "Epoch 50/100\n",
      "124999/124999 [==============================] - 1s 5us/step - loss: 3564.6886 - val_loss: 3503.5026\n",
      "Epoch 51/100\n",
      "124999/124999 [==============================] - 1s 5us/step - loss: 3490.5272 - val_loss: 3430.4607\n",
      "Epoch 52/100\n",
      "124999/124999 [==============================] - 1s 5us/step - loss: 3418.3874 - val_loss: 3359.3957\n",
      "Epoch 53/100\n",
      "124999/124999 [==============================] - 1s 6us/step - loss: 3348.1763 - val_loss: 3290.2185\n",
      "Epoch 54/100\n",
      "124999/124999 [==============================] - 1s 5us/step - loss: 3279.8097 - val_loss: 3222.8488\n",
      "Epoch 55/100\n",
      "124999/124999 [==============================] - 1s 5us/step - loss: 3213.2103 - val_loss: 3157.2119\n",
      "Epoch 56/100\n",
      "124999/124999 [==============================] - 1s 5us/step - loss: 3148.3074 - val_loss: 3093.2403\n",
      "Epoch 57/100\n",
      "124999/124999 [==============================] - 1s 6us/step - loss: 3085.0349 - val_loss: 3030.8709\n",
      "Epoch 58/100\n",
      "124999/124999 [==============================] - 1s 6us/step - loss: 3023.3340 - val_loss: 2970.0467\n",
      "Epoch 59/100\n",
      "124999/124999 [==============================] - 1s 6us/step - loss: 2963.1491 - val_loss: 2910.7148\n",
      "Epoch 60/100\n",
      "124999/124999 [==============================] - 1s 6us/step - loss: 2904.4296 - val_loss: 2852.8263\n",
      "Epoch 61/100\n",
      "124999/124999 [==============================] - 1s 7us/step - loss: 2847.1279 - val_loss: 2796.3364\n",
      "Epoch 62/100\n",
      "124999/124999 [==============================] - 1s 6us/step - loss: 2791.2025 - val_loss: 2741.2033\n",
      "Epoch 63/100\n",
      "124999/124999 [==============================] - 1s 5us/step - loss: 2736.6122 - val_loss: 2687.3880\n",
      "Epoch 64/100\n",
      "124999/124999 [==============================] - 1s 6us/step - loss: 2683.3201 - val_loss: 2634.8557\n",
      "Epoch 65/100\n",
      "124999/124999 [==============================] - 1s 6us/step - loss: 2631.2921 - val_loss: 2583.5731\n",
      "Epoch 66/100\n",
      "124999/124999 [==============================] - 1s 6us/step - loss: 2580.4973 - val_loss: 2533.5093\n",
      "Epoch 67/100\n",
      "124999/124999 [==============================] - 1s 6us/step - loss: 2530.9048 - val_loss: 2484.6360\n",
      "Epoch 68/100\n",
      "124999/124999 [==============================] - 1s 6us/step - loss: 2482.4879 - val_loss: 2436.9266\n",
      "Epoch 69/100\n",
      "124999/124999 [==============================] - 1s 6us/step - loss: 2435.2219 - val_loss: 2390.3563\n",
      "Epoch 70/100\n",
      "124999/124999 [==============================] - 1s 6us/step - loss: 2389.0812 - val_loss: 2344.9015\n",
      "Epoch 71/100\n",
      "124999/124999 [==============================] - 1s 6us/step - loss: 2344.0446 - val_loss: 2300.5401\n",
      "Epoch 72/100\n",
      "124999/124999 [==============================] - 1s 6us/step - loss: 2300.0893 - val_loss: 2257.2527\n",
      "Epoch 73/100\n",
      "124999/124999 [==============================] - 1s 6us/step - loss: 2257.1974 - val_loss: 2215.0185\n",
      "Epoch 74/100\n",
      "124999/124999 [==============================] - 1s 6us/step - loss: 2215.3491 - val_loss: 2173.8193\n",
      "Epoch 75/100\n",
      "124999/124999 [==============================] - 1s 6us/step - loss: 2174.5254 - val_loss: 2133.6373\n",
      "Epoch 76/100\n",
      "124999/124999 [==============================] - 1s 6us/step - loss: 2134.7100 - val_loss: 2094.4546\n",
      "Epoch 77/100\n",
      "124999/124999 [==============================] - 1s 5us/step - loss: 2095.8849 - val_loss: 2056.2546\n",
      "Epoch 78/100\n",
      "124999/124999 [==============================] - 1s 5us/step - loss: 2058.0342 - val_loss: 2019.0209\n",
      "Epoch 79/100\n",
      "124999/124999 [==============================] - 1s 6us/step - loss: 2021.1407 - val_loss: 1982.7366\n",
      "Epoch 80/100\n",
      "124999/124999 [==============================] - 1s 6us/step - loss: 1985.1887 - val_loss: 1947.3862\n",
      "Epoch 81/100\n",
      "124999/124999 [==============================] - 1s 6us/step - loss: 1950.1624 - val_loss: 1912.9533\n",
      "Epoch 82/100\n",
      "124999/124999 [==============================] - 1s 5us/step - loss: 1916.0454 - val_loss: 1879.4215\n",
      "Epoch 83/100\n",
      "124999/124999 [==============================] - 1s 6us/step - loss: 1882.8218 - val_loss: 1846.7746\n",
      "Epoch 84/100\n",
      "124999/124999 [==============================] - 1s 5us/step - loss: 1850.4748 - val_loss: 1814.9963\n",
      "Epoch 85/100\n",
      "124999/124999 [==============================] - 1s 6us/step - loss: 1818.9884 - val_loss: 1784.0698\n",
      "Epoch 86/100\n",
      "124999/124999 [==============================] - 1s 5us/step - loss: 1788.3457 - val_loss: 1753.9779\n",
      "Epoch 87/100\n",
      "124999/124999 [==============================] - 1s 5us/step - loss: 1758.5296 - val_loss: 1724.7038\n",
      "Epoch 88/100\n",
      "124999/124999 [==============================] - 1s 6us/step - loss: 1729.5230 - val_loss: 1696.2303\n",
      "Epoch 89/100\n",
      "124999/124999 [==============================] - 1s 5us/step - loss: 1701.3084 - val_loss: 1668.5392\n",
      "Epoch 90/100\n",
      "124999/124999 [==============================] - 1s 5us/step - loss: 1673.8679 - val_loss: 1641.6125\n",
      "Epoch 91/100\n",
      "124999/124999 [==============================] - 1s 5us/step - loss: 1647.1835 - val_loss: 1615.4323\n",
      "Epoch 92/100\n",
      "124999/124999 [==============================] - 1s 5us/step - loss: 1621.2370 - val_loss: 1589.9800\n",
      "Epoch 93/100\n",
      "124999/124999 [==============================] - 1s 7us/step - loss: 1596.0097 - val_loss: 1565.2371\n",
      "Epoch 94/100\n",
      "124999/124999 [==============================] - 1s 7us/step - loss: 1571.4831 - val_loss: 1541.1847\n",
      "Epoch 95/100\n",
      "124999/124999 [==============================] - 1s 7us/step - loss: 1547.6386 - val_loss: 1517.8041\n",
      "Epoch 96/100\n",
      "124999/124999 [==============================] - 1s 5us/step - loss: 1524.4567 - val_loss: 1495.0761\n",
      "Epoch 97/100\n",
      "124999/124999 [==============================] - 1s 5us/step - loss: 1501.9195 - val_loss: 1472.9821\n",
      "Epoch 98/100\n",
      "124999/124999 [==============================] - 1s 5us/step - loss: 1480.0071 - val_loss: 1451.5032\n",
      "Epoch 99/100\n",
      "124999/124999 [==============================] - 1s 5us/step - loss: 1458.7012 - val_loss: 1430.6202\n",
      "Epoch 100/100\n",
      "124999/124999 [==============================] - 1s 5us/step - loss: 1437.9828 - val_loss: 1410.3144\n",
      "74.66527199745178\n"
     ]
    }
   ],
   "source": [
    "from keras.layers import Input, Dense, Flatten\n",
    "from keras.models import Model, Sequential\n",
    "\n",
    "input_data = Input(shape=(X.shape[1],))\n",
    "layer1 = Dense(10, activation='linear')(input_data)\n",
    "layer2 = Dense(len(features), activation='linear')(layer1)\n",
    "model = Model(input_data, layer2)\n",
    "\n",
    "model.compile(optimizer='adagrad', \n",
    "                    loss='mean_squared_error')\n",
    "\n",
    "start  = time.time()\n",
    "model.fit(X, X,\n",
    "                epochs=100,\n",
    "                batch_size=5000,\n",
    "                shuffle=False,\n",
    "                validation_data=(X_test, X_test))\n",
    "end = time.time()\n",
    "print(end-start)"
   ]
  }
 ],
 "metadata": {
  "anaconda-cloud": {},
  "kernelspec": {
   "display_name": "Python [datasci]",
   "language": "python",
   "name": "Python [datasci]"
  },
  "language_info": {
   "codemirror_mode": {
    "name": "ipython",
    "version": 3
   },
   "file_extension": ".py",
   "mimetype": "text/x-python",
   "name": "python",
   "nbconvert_exporter": "python",
   "pygments_lexer": "ipython3",
   "version": "3.5.5"
  }
 },
 "nbformat": 4,
 "nbformat_minor": 1
}
